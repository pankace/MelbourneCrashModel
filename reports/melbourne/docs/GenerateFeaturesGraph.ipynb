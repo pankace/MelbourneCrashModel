{
 "cells": [
  {
   "cell_type": "code",
   "execution_count": 1,
   "metadata": {},
   "outputs": [],
   "source": [
    "import json\n",
    "import seaborn as sns\n",
    "import numpy as np\n",
    "import pandas as pd\n",
    "import matplotlib.pyplot as plt\n"
   ]
  },
  {
   "cell_type": "code",
   "execution_count": 4,
   "metadata": {},
   "outputs": [],
   "source": [
    "with open('feature_importances.json') as f:\n",
    "    data = json.load(f)"
   ]
  },
  {
   "cell_type": "code",
   "execution_count": 5,
   "metadata": {},
   "outputs": [
    {
     "data": {
      "text/plain": [
       "{'DAY_OF_WEEK_7': 0.050264548510313034,\n",
       " 'intersection_segments_3': 0.0,\n",
       " 'hwy_type_19': 0.0,\n",
       " 'HOUR_0': 0.01587301678955555,\n",
       " 'HOUR_21': 0.009700176306068897,\n",
       " 'HOUR_17': 0.010582010261714458,\n",
       " 'intersection_segments_20': 0.0017636683769524097,\n",
       " 'HOUR_13': 0.006172839552164078,\n",
       " 'HOUR_9': 0.006172839552164078,\n",
       " 'lanes_3': 0.006172839552164078,\n",
       " 'log_LAST_7_DAYS': 0.0,\n",
       " 'HOUR_22': 0.010582010261714458,\n",
       " 'hwy_type_0': 0.0035273367539048195,\n",
       " 'signal_1': 0.0008818341884762049,\n",
       " 'hwy_type_17': 0.0,\n",
       " 'direction_N-S': 0.01675485074520111,\n",
       " 'hwy_type_15': 0.0017636683769524097,\n",
       " 'intersection_0': 0.014109347015619278,\n",
       " 'MONTH_2': 0.012345679104328156,\n",
       " 'HOUR_14': 0.0017636683769524097,\n",
       " 'HOUR_15': 0.007054673507809639,\n",
       " 'intersection_segments_9': 0.0035273367539048195,\n",
       " 'intersection_segments_28': 0.0017636683769524097,\n",
       " 'direction_E-W': 0.008818342350423336,\n",
       " 'hwy_type_10': 0.0,\n",
       " 'intersection_segments_18': 0.0026455025654286146,\n",
       " 'intersection_segments_6': 0.0008818341884762049,\n",
       " 'log_LAST_365_DAYS': 0.02292769029736519,\n",
       " 'DAY_OF_WEEK_5': 0.0035273367539048195,\n",
       " 'MONTH_4': 0.008818342350423336,\n",
       " 'HOUR_7': 0.0017636683769524097,\n",
       " 'HOUR_10': 0.0008818341884762049,\n",
       " 'intersection_segments_22': 0.0017636683769524097,\n",
       " 'hwy_type_7': 0.0017636683769524097,\n",
       " 'DAY_OF_WEEK_2': 0.009700176306068897,\n",
       " 'direction_NW-SE': 0.009700176306068897,\n",
       " 'HOUR_20': 0.009700176306068897,\n",
       " 'intersection_segments_21': 0.0008818341884762049,\n",
       " 'MONTH_6': 0.009700176306068897,\n",
       " 'hwy_type_11': 0.0,\n",
       " 'MONTH_8': 0.0026455025654286146,\n",
       " 'MONTH_9': 0.009700176306068897,\n",
       " 'HOUR_19': 0.0017636683769524097,\n",
       " 'intersection_segments_4': 0.0,\n",
       " 'hwy_type_23': 0.0,\n",
       " 'HOUR_12': 0.007054673507809639,\n",
       " 'MONTH_1': 0.0035273367539048195,\n",
       " 'intersection_segments_11': 0.005291005130857229,\n",
       " 'hwy_type_4': 0.0,\n",
       " 'intersection_segments_13': 0.0017636683769524097,\n",
       " 'intersection_segments_17': 0.0026455025654286146,\n",
       " 'intersection_segments_23': 0.0017636683769524097,\n",
       " 'hwy_type_9': 0.0008818341884762049,\n",
       " 'lanes_4': 0.007054673507809639,\n",
       " 'intersection_segments_7': 0.0008818341884762049,\n",
       " 'direction_NE-SW': 0.005291005130857229,\n",
       " 'signal_3': 0.0035273367539048195,\n",
       " 'intersection_segments_32': 0.0,\n",
       " 'oneway_1': 0.007936508394777775,\n",
       " 'intersection_1': 0.0,\n",
       " 'crosswalk_5.0': 0.0008818341884762049,\n",
       " 'hwy_type_22': 0.0,\n",
       " 'MONTH_12': 0.005291005130857229,\n",
       " 'log_LAST_1825_DAYS': 0.05820105969905853,\n",
       " 'MONTH_5': 0.0017636683769524097,\n",
       " 'crosswalk_2.0': 0.006172839552164078,\n",
       " 'hwy_type_3': 0.014109347015619278,\n",
       " 'MONTH_11': 0.0026455025654286146,\n",
       " 'hwy_type_8': 0.012345679104328156,\n",
       " 'MONTH_10': 0.0026455025654286146,\n",
       " 'HOUR_18': 0.009700176306068897,\n",
       " 'intersection_segments_16': 0.004409171175211668,\n",
       " 'DAY_OF_WEEK_4': 0.007936508394777775,\n",
       " 'intersection_segments_24': 0.0017636683769524097,\n",
       " 'lanes_0': 0.013227513059973717,\n",
       " 'hwy_type_18': 0.0,\n",
       " 'MONTH_3': 0.006172839552164078,\n",
       " 'intersection_segments_27': 0.0035273367539048195,\n",
       " 'log_width_per_lane': 0.0,\n",
       " 'intersection_segments_0': 0.0,\n",
       " 'crosswalk_4.0': 0.0,\n",
       " 'intersection_segments_19': 0.0017636683769524097,\n",
       " 'hwy_type_21': 0.0,\n",
       " 'log_LAST_3650_DAYS': 0.07319223880767822,\n",
       " 'hwy_type_5': 0.0035273367539048195,\n",
       " 'lanes_2': 0.012345679104328156,\n",
       " 'log_width': 0.0,\n",
       " 'intersection_segments_5': 0.0035273367539048195,\n",
       " 'lanes_1': 0.007936508394777775,\n",
       " 'crosswalk_3.0': 0.0,\n",
       " 'intersection_segments_15': 0.0,\n",
       " 'HOUR_2': 0.019400352612137794,\n",
       " 'hwy_type_2': 0.014109347015619278,\n",
       " 'intersection_segments_26': 0.0008818341884762049,\n",
       " 'MONTH_7': 0.0026455025654286146,\n",
       " 'oneway_0': 0.0,\n",
       " 'HOUR_4': 0.018518518656492233,\n",
       " 'DAY_OF_WEEK_0': 0.04938271641731262,\n",
       " 'intersection_segments_2': 0.0,\n",
       " 'crosswalk_8.0': 0.0017636683769524097,\n",
       " 'signal_2': 0.0017636683769524097,\n",
       " 'crosswalk_1.0': 0.008818342350423336,\n",
       " 'HOUR_5': 0.012345679104328156,\n",
       " 'hwy_type_20': 0.0,\n",
       " 'intersection_segments_14': 0.0008818341884762049,\n",
       " 'hwy_type_6': 0.009700176306068897,\n",
       " 'signal_4': 0.009700176306068897,\n",
       " 'HOUR_11': 0.0017636683769524097,\n",
       " 'intersection_segments_8': 0.0008818341884762049,\n",
       " 'hwy_type_1': 0.010582010261714458,\n",
       " 'DAY_OF_WEEK_3': 0.007936508394777775,\n",
       " 'HOUR_1': 0.014109347015619278,\n",
       " 'hwy_type_13': 0.004409171175211668,\n",
       " 'signal_6': 0.0,\n",
       " 'lanes_6': 0.0,\n",
       " 'HOUR_16': 0.004409171175211668,\n",
       " 'log_osm_speed': 0.06437389552593231,\n",
       " 'HOUR_3': 0.01675485074520111,\n",
       " 'DAY_OF_WEEK_6': 0.012345679104328156,\n",
       " 'hwy_type_14': 0.0,\n",
       " 'hwy_type_12': 0.0008818341884762049,\n",
       " 'intersection_segments_12': 0.006172839552164078,\n",
       " 'signal_5': 0.0,\n",
       " 'intersection_segments_30': 0.0,\n",
       " 'signal_0': 0.011463845148682594,\n",
       " 'HOUR_8': 0.010582010261714458,\n",
       " 'HOUR_6': 0.007936508394777775,\n",
       " 'lanes_5': 0.0,\n",
       " 'hwy_type_16': 0.005291005130857229,\n",
       " 'crosswalk_7.0': 0.0,\n",
       " 'DAY_OF_WEEK_1': 0.05820105969905853,\n",
       " 'intersection_segments_10': 0.0035273367539048195,\n",
       " 'intersection_segments_25': 0.0008818341884762049,\n",
       " 'HOUR_23': 0.017636684700846672,\n",
       " 'log_LAST_30_DAYS': 0.0008818341884762049}"
      ]
     },
     "execution_count": 5,
     "metadata": {},
     "output_type": "execute_result"
    }
   ],
   "source": [
    "data"
   ]
  },
  {
   "cell_type": "code",
   "execution_count": 6,
   "metadata": {
    "scrolled": true
   },
   "outputs": [],
   "source": [
    "features = []\n",
    "values = []\n",
    "\n",
    "for f, v in data.items():\n",
    "    features.append(f)\n",
    "    values.append(v)\n",
    "\n",
    "features = np.array(features)\n",
    "values = np.array(values)"
   ]
  },
  {
   "cell_type": "code",
   "execution_count": null,
   "metadata": {},
   "outputs": [],
   "source": []
  },
  {
   "cell_type": "code",
   "execution_count": 20,
   "metadata": {},
   "outputs": [],
   "source": [
    "topIdx = np.array(values.argsort()[-20:][::-1])\n",
    "topFeatures = features[topIdx]\n",
    "topValues = values[topIdx]"
   ]
  },
  {
   "cell_type": "code",
   "execution_count": 21,
   "metadata": {},
   "outputs": [
    {
     "data": {
      "text/plain": [
       "array(['log_LAST_3650_DAYS', 'log_osm_speed', 'log_LAST_1825_DAYS',\n",
       "       'DAY_OF_WEEK_1', 'DAY_OF_WEEK_7', 'DAY_OF_WEEK_0',\n",
       "       'log_LAST_365_DAYS', 'HOUR_2', 'HOUR_4', 'HOUR_23',\n",
       "       'direction_N-S', 'HOUR_3', 'HOUR_0', 'hwy_type_2', 'hwy_type_3',\n",
       "       'intersection_0', 'HOUR_1', 'lanes_0', 'HOUR_5', 'MONTH_2'],\n",
       "      dtype='<U24')"
      ]
     },
     "execution_count": 21,
     "metadata": {},
     "output_type": "execute_result"
    }
   ],
   "source": [
    "topFeatures"
   ]
  },
  {
   "cell_type": "code",
   "execution_count": 37,
   "metadata": {},
   "outputs": [],
   "source": [
    "relabelled_features = []\n",
    "newTopValues = []\n",
    "i=0\n",
    "day_weight = 0\n",
    "hour_weight = 0\n",
    "intersection_weight = 0\n",
    "direction_weight = 0\n",
    "\n",
    "for feat in topFeatures:\n",
    "    if feat == 'log_SPEED_ZONE':\n",
    "        relabelled_features.append('Speed Limit')\n",
    "        newTopValues.append(topValues[i])\n",
    "    if feat == 'log_LAST_3650_DAYS':\n",
    "        relabelled_features.append('Number of crashes in last 10 years')\n",
    "        newTopValues.append(topValues[i])\n",
    "    if feat == \"log_LAST_1825_DAYS\":\n",
    "        relabelled_features.append(\"Number of crashes in last 5 years\")\n",
    "        newTopValues.append(topValues[i])\n",
    "    if feat == \"LIGHT_COND_1\":\n",
    "        relabelled_features.append(\"Weather type\")\n",
    "        newTopValues.append(topValues[i])\n",
    "    if feat == \"DEGREE_URBAN_MELB_URBAN\":\n",
    "        relabelled_features.append(\"Nearby population density\")\n",
    "        newTopValues.append(topValues[i])\n",
    "    if feat == 'NODE_TYPE_INT_1.0':\n",
    "        relabelled_features.append(\"Intersection\")\n",
    "        newTopValues.append(topValues[i])\n",
    "    if feat == 'direction_NW-SE':\n",
    "        relabelled_features.append(\"Road direction\")\n",
    "        newTopValues.append(topValues[i])\n",
    "    if feat == 'log_osm_speed':\n",
    "        relabelled_features.append(\"Speed Limit\")\n",
    "        newTopValues.append(topValues[i])\n",
    "    if feat == \"DAY_OF_WEEK_1\" or feat == \"DAY_OF_WEEK_7\" or feat ==\"DAY_OF_WEEK_0\":\n",
    "        if topValues[i] > day_weight:\n",
    "            day_weight = topValues[i]\n",
    "    if feat == \"HOUR_2\" or feat == \"HOUR_4\" or feat == \"HOUR_23\":\n",
    "        if topValues[i] > hour_weight:\n",
    "            hour_weight = topValues[i]\n",
    "    if feat==\"intersection_0\" or feat==\"intersection_1\":\n",
    "        if topValues[i] > intersection_weight:\n",
    "            intersection_weight = topValues[i]\n",
    "    if feat==\"direction_N-S\":\n",
    "        if topValues[i] > direction_weight:\n",
    "            direction_weight = topValues[i]\n",
    "    i+=1\n",
    "relabelled_features.append('Day')\n",
    "newTopValues.append(day_weight)\n",
    "relabelled_features.append('Hour')\n",
    "newTopValues.append(hour_weight)\n",
    "relabelled_features.append('Direction')\n",
    "newTopValues.append(direction_weight)\n",
    "relabelled_features.append('Intersection')\n",
    "newTopValues.append(intersection_weight)"
   ]
  },
  {
   "cell_type": "code",
   "execution_count": 38,
   "metadata": {},
   "outputs": [
    {
     "data": {
      "text/plain": [
       "['Number of crashes in last 10 years',\n",
       " 'Speed Limit',\n",
       " 'Number of crashes in last 5 years',\n",
       " 'Day',\n",
       " 'Hour',\n",
       " 'Direction',\n",
       " 'Intersection']"
      ]
     },
     "execution_count": 38,
     "metadata": {},
     "output_type": "execute_result"
    }
   ],
   "source": [
    "relabelled_features"
   ]
  },
  {
   "cell_type": "code",
   "execution_count": 39,
   "metadata": {},
   "outputs": [
    {
     "data": {
      "text/plain": [
       "[0.07319223880767822,\n",
       " 0.06437389552593231,\n",
       " 0.05820105969905853,\n",
       " 0.05820105969905853,\n",
       " 0.019400352612137794,\n",
       " 0.01675485074520111,\n",
       " 0.014109347015619278]"
      ]
     },
     "execution_count": 39,
     "metadata": {},
     "output_type": "execute_result"
    }
   ],
   "source": [
    "newTopValues"
   ]
  },
  {
   "cell_type": "code",
   "execution_count": 40,
   "metadata": {},
   "outputs": [
    {
     "data": {
      "image/png": "[encoded data removed]",
      "text/plain": [
       "<Figure size 432x432 with 1 Axes>"
      ]
     },
     "metadata": {},
     "output_type": "display_data"
    }
   ],
   "source": [
    "sns.set(style=\"ticks\", context=\"talk\")\n",
    "plt.style.use(\"dark_background\")\n",
    "\n",
    "f, ax = plt.subplots(figsize=(6, 6))\n",
    "sns_plot = sns.barplot(newTopValues, relabelled_features, color=\"b\")\n",
    "\n",
    "f.savefig(\"output.png\", transparent=True, bbox_inches=\"tight\")"
   ]
  },
  {
   "cell_type": "code",
   "execution_count": null,
   "metadata": {},
   "outputs": [],
   "source": []
  },
  {
   "cell_type": "code",
   "execution_count": null,
   "metadata": {},
   "outputs": [],
   "source": []
  }
 ],
 "metadata": {
  "kernelspec": {
   "display_name": "Python 3",
   "language": "python",
   "name": "python3"
  },
  "language_info": {
   "codemirror_mode": {
    "name": "ipython",
    "version": 3
   },
   "file_extension": ".py",
   "mimetype": "text/x-python",
   "name": "python",
   "nbconvert_exporter": "python",
   "pygments_lexer": "ipython3",
   "version": "3.6.6"
  }
 },
 "nbformat": 4,
 "nbformat_minor": 2
}
